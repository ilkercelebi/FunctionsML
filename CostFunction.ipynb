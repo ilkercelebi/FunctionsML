{
 "cells": [
  {
   "cell_type": "code",
   "execution_count": 1,
   "id": "43573ad1",
   "metadata": {},
   "outputs": [],
   "source": [
    "import numpy as np"
   ]
  },
  {
   "cell_type": "code",
   "execution_count": 16,
   "id": "7c0dc893",
   "metadata": {},
   "outputs": [],
   "source": [
    "def compute_cost(x, y, w, b): \n",
    "    \"\"\"\n",
    "    Computes the cost function for linear regression.\n",
    "    \n",
    "    Args:\n",
    "      x (ndarray (m,)): veri, m örnek \n",
    "      y (ndarray (m,)): hedef değişken\n",
    "      w,b (scalar)    : model parametreleri  \n",
    "    \n",
    "    total cost = toplam maliyet ,toplam hata\n",
    "    \"\"\"\n",
    "    #örnek sayısı\n",
    "    m = x.shape[0] \n",
    "    \n",
    "    cost_sum = 0 \n",
    "    for i in range(m): \n",
    "        f_wb = w * x[i] + b   \n",
    "        cost = (f_wb - y[i]) ** 2  \n",
    "        cost_sum = cost_sum+cost\n",
    "    total_cost = (1 / (2 * m)) * cost_sum  \n",
    "\n",
    "    return total_cost"
   ]
  },
  {
   "cell_type": "code",
   "execution_count": 13,
   "id": "80396d40",
   "metadata": {},
   "outputs": [],
   "source": [
    "x_train = np.array([2.0,3.0])           \n",
    "y_train = np.array([500.0, 400.0])   "
   ]
  },
  {
   "cell_type": "code",
   "execution_count": 15,
   "id": "7da8e5b0",
   "metadata": {},
   "outputs": [
    {
     "data": {
      "text/plain": [
       "92756.25"
      ]
     },
     "execution_count": 15,
     "metadata": {},
     "output_type": "execute_result"
    }
   ],
   "source": [
    "compute_cost(x_train,y_train,5,10)"
   ]
  },
  {
   "cell_type": "markdown",
   "id": "9d799d55",
   "metadata": {},
   "source": [
    "## WHAT İS THE COST FUNCTİON"
   ]
  },
  {
   "cell_type": "markdown",
   "id": "5b309d66",
   "metadata": {},
   "source": [
    "Calculates how much loss/error the machine learning model set up by this function works. Even though there are different variants of this function, it basically takes two values. The predicted values ​​of this model and the estimated known values. The outputs of the model created by the educational institution and the results of the results for the test are compared through this function.\n"
   ]
  },
  {
   "cell_type": "code",
   "execution_count": null,
   "id": "5e9d7848",
   "metadata": {},
   "outputs": [],
   "source": []
  }
 ],
 "metadata": {
  "kernelspec": {
   "display_name": "Python 3 (ipykernel)",
   "language": "python",
   "name": "python3"
  },
  "language_info": {
   "codemirror_mode": {
    "name": "ipython",
    "version": 3
   },
   "file_extension": ".py",
   "mimetype": "text/x-python",
   "name": "python",
   "nbconvert_exporter": "python",
   "pygments_lexer": "ipython3",
   "version": "3.9.12"
  }
 },
 "nbformat": 4,
 "nbformat_minor": 5
}
